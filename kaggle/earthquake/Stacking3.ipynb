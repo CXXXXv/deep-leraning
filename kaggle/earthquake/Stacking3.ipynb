{
 "cells": [
  {
   "cell_type": "code",
   "execution_count": 1,
   "metadata": {},
   "outputs": [],
   "source": [
    "import gc\n",
    "import pandas as pd\n",
    "import numpy as np\n",
    "import lightgbm as lgb\n",
    "import xgboost as xgb\n",
    "from sklearn.model_selection import KFold\n",
    "from hyperopt import STATUS_OK, tpe, hp, Trials, fmin\n",
    "import warnings\n",
    "warnings.filterwarnings('ignore')\n",
    "from sklearn.metrics import mean_absolute_error\n",
    "import seaborn as sns\n",
    "import matplotlib.pyplot as plt"
   ]
  },
  {
   "cell_type": "code",
   "execution_count": 2,
   "metadata": {},
   "outputs": [],
   "source": [
    "lgb_300_preds = pd.read_csv('./new_features2/lgb_300features_1000.csv', index_col='seg_id')\n",
    "lgb_500_preds = pd.read_csv('./new_features2/lgb_500features_1000.csv', index_col='seg_id')\n",
    "lgb_700_preds = pd.read_csv('./new_features2/lgb_700features_1000.csv', index_col='seg_id')\n",
    "lgb_gb300_preds = pd.read_csv('./new_features2/lgb_gb300features_1000.csv', index_col='seg_id')\n",
    "xgb_500_preds = pd.read_csv('./new_features2/xgb_500features_1000.csv', index_col='seg_id')"
   ]
  },
  {
   "cell_type": "code",
   "execution_count": 3,
   "metadata": {},
   "outputs": [],
   "source": [
    "oof_lgb_300 = pd.read_csv('./new_features2/oof_lgb_300features_1000.csv', index_col='Unnamed: 0')\n",
    "oof_lgb_500 = pd.read_csv('./new_features2/oof_lgb_500features_1000.csv')\n",
    "oof_lgb_700 = pd.read_csv('./new_features2/oof_lgb_700features_1000.csv')\n",
    "oof_lgb_gb300 = pd.read_csv('./new_features2/oof_lgb_gb300features_1000.csv', index_col='Unnamed: 0')\n",
    "oof_xgb_500 = pd.read_csv('./new_features2/oof_xgb_500features_1000.csv', index_col='Unnamed: 0')"
   ]
  },
  {
   "cell_type": "code",
   "execution_count": 4,
   "metadata": {},
   "outputs": [],
   "source": [
    "y = pd.read_csv('./new_features2/y.csv')"
   ]
  },
  {
   "cell_type": "code",
   "execution_count": 6,
   "metadata": {},
   "outputs": [],
   "source": [
    "oof_lgb_300 = oof_lgb_300.values.reshape((6291,))\n",
    "oof_lgb_500 = oof_lgb_500.values.reshape((6291,))\n",
    "oof_lgb_700 = oof_lgb_700.values.reshape((6291,))\n",
    "oof_lgb_gb300 = oof_lgb_gb300.values.reshape((6291,))\n",
    "oof_xgb_500 = oof_xgb_500.values.reshape((6291,))"
   ]
  },
  {
   "cell_type": "code",
   "execution_count": 9,
   "metadata": {},
   "outputs": [],
   "source": [
    "lgb_300_preds = lgb_300_preds.time_to_failure.values.reshape((2624,))\n",
    "lgb_500_preds = lgb_500_preds.time_to_failure.values.reshape((2624,))\n",
    "lgb_700_preds = lgb_700_preds.time_to_failure.values.reshape((2624,))\n",
    "lgb_gb300_preds = lgb_gb300_preds.time_to_failure.values.reshape((2624,))\n",
    "xgb_500_preds = xgb_500_preds.time_to_failure.values.reshape((2624,))"
   ]
  },
  {
   "cell_type": "code",
   "execution_count": 10,
   "metadata": {},
   "outputs": [],
   "source": [
    "stack_list = [oof_lgb_300, oof_lgb_500, oof_lgb_700, oof_lgb_gb300, oof_xgb_500]\n",
    "pred_list = [lgb_300_preds, lgb_500_preds, lgb_700_preds, lgb_gb300_preds, xgb_500_preds]\n",
    "columns = ['lgb_300', 'lgb_500', 'lgb_700', 'lgb_gb300', 'xgb_500']\n",
    "train_stack = pd.DataFrame(np.vstack(stack_list).transpose(), columns=columns)\n",
    "test_stack = pd.DataFrame(np.vstack(pred_list).transpose(), columns=columns)"
   ]
  },
  {
   "cell_type": "code",
   "execution_count": 11,
   "metadata": {},
   "outputs": [
    {
     "data": {
      "text/plain": [
       "(6291, 5)"
      ]
     },
     "execution_count": 11,
     "metadata": {},
     "output_type": "execute_result"
    }
   ],
   "source": [
    "train_stack.shape"
   ]
  },
  {
   "cell_type": "code",
   "execution_count": 12,
   "metadata": {},
   "outputs": [
    {
     "data": {
      "text/plain": [
       "(6291, 1)"
      ]
     },
     "execution_count": 12,
     "metadata": {},
     "output_type": "execute_result"
    }
   ],
   "source": [
    "y.shape"
   ]
  },
  {
   "cell_type": "code",
   "execution_count": 14,
   "metadata": {},
   "outputs": [],
   "source": [
    "NUM_EVALS = 1000\n",
    "N_FOLDS = 5\n",
    "XGB_MAX_LEAVES = 2**12 \n",
    "XGB_MAX_DEPTH = 50\n",
    "EVAL_METRIC_XGB_REG = 'mae'\n",
    "LGBM_MAX_LEAVES = 2**11\n",
    "LGBM_MAX_DEPTH = 35\n",
    "EVAL_METRIC_LGBM_REG = 'mae'"
   ]
  },
  {
   "cell_type": "code",
   "execution_count": 16,
   "metadata": {},
   "outputs": [],
   "source": [
    "def quick_hyperopt(data, labels, package='xgb', num_evals=NUM_EVALS, diagnostic=False):\n",
    "\n",
    "    #==========\n",
    "    #XGBoost\n",
    "    #==========\n",
    "    \n",
    "    if package=='xgb':\n",
    "        \n",
    "        print('Running {} rounds of XGBoost parameter optimisation:'.format(num_evals))\n",
    "        #clear space\n",
    "        gc.collect()\n",
    "        \n",
    "        integer_params = ['max_depth']\n",
    "        \n",
    "        def objective(space_params):\n",
    "            \n",
    "            for param in integer_params:\n",
    "                space_params[param] = int(space_params[param])\n",
    "                \n",
    "            #extract multiple nested tree_method conditional parameters\n",
    "            #libera te tutemet ex inferis\n",
    "            if space_params['tree_method']['tree_method'] == 'hist':\n",
    "                max_bin = space_params['tree_method'].get('max_bin')\n",
    "                space_params['max_bin'] = int(max_bin)\n",
    "                if space_params['tree_method']['grow_policy']['grow_policy']['grow_policy'] == 'depthwise':\n",
    "                    grow_policy = space_params['tree_method'].get('grow_policy').get('grow_policy').get('grow_policy')\n",
    "                    space_params['grow_policy'] = grow_policy\n",
    "                    space_params['tree_method'] = 'hist'\n",
    "                else:\n",
    "                    max_leaves = space_params['tree_method']['grow_policy']['grow_policy'].get('max_leaves')\n",
    "                    space_params['grow_policy'] = 'lossguide'\n",
    "                    space_params['max_leaves'] = int(max_leaves)\n",
    "                    space_params['tree_method'] = 'hist'\n",
    "            else:\n",
    "                space_params['tree_method'] = space_params['tree_method'].get('tree_method')\n",
    "                \n",
    "            #for classification replace EVAL_METRIC_XGB_REG with EVAL_METRIC_XGB_CLASS\n",
    "            cv_results = xgb.cv(space_params, train, num_boost_round=100, nfold=N_FOLDS, metrics=[EVAL_METRIC_XGB_REG],\n",
    "                             early_stopping_rounds=100, stratified=False, seed=42)\n",
    "            \n",
    "            best_loss = cv_results['test-mae-mean'].iloc[-1] #or 'test-rmse-mean' if using RMSE\n",
    "            #for classification, comment out the line above and uncomment the line below:\n",
    "            #best_loss = 1 - cv_results['test-auc-mean'].iloc[-1]\n",
    "            #if necessary, replace 'test-auc-mean' with 'test-[your-preferred-metric]-mean'\n",
    "            return{'loss':best_loss, 'status': STATUS_OK }\n",
    "        \n",
    "        train = xgb.DMatrix(data, labels)\n",
    "        \n",
    "        #integer and string parameters, used with hp.choice()\n",
    "        boosting_list = ['gbtree', 'gblinear'] #if including 'dart', make sure to set 'n_estimators'\n",
    "        metric_list = ['mae'] \n",
    "        #for classification comment out the line above and uncomment the line below\n",
    "        #metric_list = ['auc']\n",
    "        #modify as required for other classification metrics classification\n",
    "        \n",
    "        tree_method = [{'tree_method' : 'exact'},\n",
    "               {'tree_method' : 'approx'},\n",
    "               {'tree_method' : 'hist',\n",
    "                'max_bin': hp.quniform('max_bin', 2**3, 2**7, 1),\n",
    "                'grow_policy' : {'grow_policy': {'grow_policy':'depthwise'},\n",
    "                                'grow_policy' : {'grow_policy':'lossguide',\n",
    "                                                  'max_leaves': hp.quniform('max_leaves', 32, XGB_MAX_LEAVES, 1)}}}]\n",
    "        \n",
    "        #if using GPU, replace 'exact' with 'gpu_exact' and 'hist' with\n",
    "        #'gpu_hist' in the nested dictionary above\n",
    "        \n",
    "        objective_list_reg = ['reg:linear']\n",
    "        objective_list_class = ['reg:logistic', 'binary:logistic']\n",
    "        #for classification change line below to 'objective_list = objective_list_class'\n",
    "        objective_list = objective_list_reg\n",
    "        \n",
    "        space ={'boosting' : hp.choice('boosting', boosting_list),\n",
    "                'tree_method' : hp.choice('tree_method', tree_method),\n",
    "                'max_depth': hp.quniform('max_depth', 2, XGB_MAX_DEPTH, 1),\n",
    "                'reg_alpha' : hp.uniform('reg_alpha', 0, 5),\n",
    "                'reg_lambda' : hp.uniform('reg_lambda', 0, 5),\n",
    "                'min_child_weight' : hp.uniform('min_child_weight', 0, 5),\n",
    "                'gamma' : hp.uniform('gamma', 0, 5),\n",
    "                'learning_rate' : hp.loguniform('learning_rate', np.log(0.005), np.log(0.2)),\n",
    "                'eval_metric' : hp.choice('eval_metric', metric_list),\n",
    "                'objective' : hp.choice('objective', objective_list),\n",
    "                'colsample_bytree' : hp.quniform('colsample_bytree', 0.1, 1, 0.01),\n",
    "                'colsample_bynode' : hp.quniform('colsample_bynode', 0.1, 1, 0.01),\n",
    "                'colsample_bylevel' : hp.quniform('colsample_bylevel', 0.1, 1, 0.01),\n",
    "                'subsample' : hp.quniform('subsample', 0.5, 1, 0.05),\n",
    "                'nthread' : 3\n",
    "            }\n",
    "        \n",
    "        trials = Trials()\n",
    "        best = fmin(fn=objective,\n",
    "                    space=space,\n",
    "                    algo=tpe.suggest,\n",
    "                    max_evals=num_evals, \n",
    "                    trials=trials)\n",
    "        \n",
    "        best['tree_method'] = tree_method[best['tree_method']]['tree_method']\n",
    "        best['boosting'] = boosting_list[best['boosting']]\n",
    "        best['eval_metric'] = metric_list[best['eval_metric']]\n",
    "        best['objective'] = objective_list[best['objective']]\n",
    "        \n",
    "        #cast floats of integer params to int\n",
    "        for param in integer_params:\n",
    "            best[param] = int(best[param])\n",
    "        if 'max_leaves' in best:\n",
    "            best['max_leaves'] = int(best['max_leaves'])\n",
    "        if 'max_bin' in best:\n",
    "            best['max_bin'] = int(best['max_bin'])\n",
    "        \n",
    "        print('{' + '\\n'.join('{}: {}'.format(k, v) for k, v in best.items()) + '}')\n",
    "        \n",
    "        if diagnostic:\n",
    "            return(best, trials)\n",
    "        else:\n",
    "            return(best)"
   ]
  },
  {
   "cell_type": "code",
   "execution_count": 17,
   "metadata": {},
   "outputs": [
    {
     "name": "stdout",
     "output_type": "stream",
     "text": [
      "Running 1000 rounds of XGBoost parameter optimisation:\n",
      "100%|█| 1000/1000 [56:55<00:00,  2.87s/it, best loss: 1.9197564]         \n",
      "{boosting: gbtree\n",
      "colsample_bylevel: 0.71\n",
      "colsample_bynode: 0.64\n",
      "colsample_bytree: 0.96\n",
      "eval_metric: mae\n",
      "gamma: 1.8190608987635866\n",
      "learning_rate: 0.029614976191358323\n",
      "max_bin: 104\n",
      "max_depth: 5\n",
      "max_leaves: 3535\n",
      "min_child_weight: 3.6940583804767675\n",
      "objective: reg:linear\n",
      "reg_alpha: 0.44296909713462196\n",
      "reg_lambda: 3.1225037256463923\n",
      "subsample: 0.9500000000000001\n",
      "tree_method: hist}\n"
     ]
    }
   ],
   "source": [
    "xgb_params2 = quick_hyperopt(train_stack, y, 'xgb', 1000, diagnostic=False)"
   ]
  },
  {
   "cell_type": "code",
   "execution_count": 18,
   "metadata": {},
   "outputs": [
    {
     "data": {
      "text/plain": [
       "{'boosting': 'gbtree',\n",
       " 'colsample_bylevel': 0.71,\n",
       " 'colsample_bynode': 0.64,\n",
       " 'colsample_bytree': 0.96,\n",
       " 'eval_metric': 'mae',\n",
       " 'gamma': 1.8190608987635866,\n",
       " 'learning_rate': 0.029614976191358323,\n",
       " 'max_bin': 104,\n",
       " 'max_depth': 5,\n",
       " 'max_leaves': 3535,\n",
       " 'min_child_weight': 3.6940583804767675,\n",
       " 'objective': 'reg:linear',\n",
       " 'reg_alpha': 0.44296909713462196,\n",
       " 'reg_lambda': 3.1225037256463923,\n",
       " 'subsample': 0.9500000000000001,\n",
       " 'tree_method': 'hist'}"
      ]
     },
     "execution_count": 18,
     "metadata": {},
     "output_type": "execute_result"
    }
   ],
   "source": [
    "xgb_params2"
   ]
  },
  {
   "cell_type": "code",
   "execution_count": 19,
   "metadata": {},
   "outputs": [
    {
     "name": "stdout",
     "output_type": "stream",
     "text": [
      "[0]\tvalidation_0-mae:5.10124\tvalidation_1-mae:4.9153\n",
      "Multiple eval metrics have been passed: 'validation_1-mae' will be used for early stopping.\n",
      "\n",
      "Will train until validation_1-mae hasn't improved in 200 rounds.\n",
      "Stopping. Best iteration:\n",
      "[103]\tvalidation_0-mae:1.84249\tvalidation_1-mae:1.92839\n",
      "\n",
      "[0]\tvalidation_0-mae:5.02794\tvalidation_1-mae:5.21127\n",
      "Multiple eval metrics have been passed: 'validation_1-mae' will be used for early stopping.\n",
      "\n",
      "Will train until validation_1-mae hasn't improved in 200 rounds.\n",
      "Stopping. Best iteration:\n",
      "[91]\tvalidation_0-mae:1.84671\tvalidation_1-mae:1.94321\n",
      "\n",
      "[0]\tvalidation_0-mae:5.02189\tvalidation_1-mae:5.22877\n",
      "Multiple eval metrics have been passed: 'validation_1-mae' will be used for early stopping.\n",
      "\n",
      "Will train until validation_1-mae hasn't improved in 200 rounds.\n",
      "Stopping. Best iteration:\n",
      "[96]\tvalidation_0-mae:1.834\tvalidation_1-mae:1.97235\n",
      "\n",
      "[0]\tvalidation_0-mae:5.07778\tvalidation_1-mae:5.00586\n",
      "Multiple eval metrics have been passed: 'validation_1-mae' will be used for early stopping.\n",
      "\n",
      "Will train until validation_1-mae hasn't improved in 200 rounds.\n",
      "Stopping. Best iteration:\n",
      "[100]\tvalidation_0-mae:1.84493\tvalidation_1-mae:1.92707\n",
      "\n",
      "[0]\tvalidation_0-mae:5.08951\tvalidation_1-mae:4.95872\n",
      "Multiple eval metrics have been passed: 'validation_1-mae' will be used for early stopping.\n",
      "\n",
      "Will train until validation_1-mae hasn't improved in 200 rounds.\n",
      "Stopping. Best iteration:\n",
      "[99]\tvalidation_0-mae:1.87176\tvalidation_1-mae:1.83146\n",
      "\n",
      "CV score: 1.920497974381878, std: 0.04740821860392461\n"
     ]
    }
   ],
   "source": [
    "MAE = 0\n",
    "stack_preds = np.zeros(len(test_stack))\n",
    "feature_importance_stack = pd.DataFrame()\n",
    "scores = []\n",
    "\n",
    "n_fold = 5\n",
    "folds = KFold(n_splits=n_fold, shuffle=True, random_state=0)\n",
    "for fold, (train_idx, valid_idx) in enumerate(folds.split(train_stack)):\n",
    "    X_train, y_train = train_stack.iloc[train_idx], y.iloc[train_idx]\n",
    "    X_valid, y_valid = train_stack.iloc[valid_idx], y.iloc[valid_idx]\n",
    "    model = xgb.XGBRegressor(**xgb_params2, n_estimators=20000, n_jobs=3)\n",
    "    model.fit(X_train, y_train, eval_set=[(X_train, y_train), (X_valid, y_valid)],\n",
    "              verbose=10000, early_stopping_rounds=200)\n",
    "    val_pred = model.predict(X_valid)\n",
    "    fold_importance = pd.DataFrame()\n",
    "    fold_importance['feature'] = train_stack.columns\n",
    "    fold_importance['importance'] = model.feature_importances_\n",
    "    fold_importance['fold'] = fold + 1\n",
    "    MAE += mean_absolute_error(y_valid, val_pred) / n_fold\n",
    "    stack_preds += model.predict(test_stack) / n_fold\n",
    "    feature_importance_stack = pd.concat([feature_importance_stack, fold_importance], axis=0)\n",
    "    scores.append(mean_absolute_error(y_valid, val_pred))\n",
    "    \n",
    "print('CV score: {}, std: {}'.format(MAE, np.std(scores)))"
   ]
  },
  {
   "cell_type": "code",
   "execution_count": 20,
   "metadata": {},
   "outputs": [],
   "source": [
    "submission = pd.read_csv('D:/kaggle/earthquake/sample_submission.csv', index_col='seg_id')\n",
    "submission.time_to_failure = stack_preds\n",
    "submission.to_csv('./new_features2/stack_lgb_xgb.csv', index=True)"
   ]
  },
  {
   "cell_type": "code",
   "execution_count": 21,
   "metadata": {},
   "outputs": [
    {
     "data": {
      "image/png": "[encoded data removed]",
      "text/plain": [
       "<Figure size 1152x432 with 1 Axes>"
      ]
     },
     "metadata": {
      "needs_background": "light"
     },
     "output_type": "display_data"
    }
   ],
   "source": [
    "fig = plt.figure(figsize=(16, 6))\n",
    "sns.barplot(x='importance', y='feature', data=feature_importance_stack.sort_values(by='importance', ascending=False))\n",
    "plt.show()"
   ]
  }
 ],
 "metadata": {
  "kernelspec": {
   "display_name": "Python 3",
   "language": "python",
   "name": "python3"
  },
  "language_info": {
   "codemirror_mode": {
    "name": "ipython",
    "version": 3
   },
   "file_extension": ".py",
   "mimetype": "text/x-python",
   "name": "python",
   "nbconvert_exporter": "python",
   "pygments_lexer": "ipython3",
   "version": "3.6.6"
  }
 },
 "nbformat": 4,
 "nbformat_minor": 2
}
